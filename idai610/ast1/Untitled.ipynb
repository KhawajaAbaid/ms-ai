{
 "cells": [
  {
   "cell_type": "code",
   "execution_count": 2,
   "id": "fa935963-c59d-4477-acd7-66b6a163c1e5",
   "metadata": {},
   "outputs": [],
   "source": [
    "import requests\n",
    "from bs4 import BeautifulSoup"
   ]
  },
  {
   "cell_type": "code",
   "execution_count": 13,
   "id": "ef554152-5b6d-474e-8c22-aad808e82038",
   "metadata": {},
   "outputs": [],
   "source": [
    "page = requests.get(\"https://schedulemaker.csh.rit.edu/browse\")"
   ]
  },
  {
   "cell_type": "code",
   "execution_count": 15,
   "id": "a3898a48-358c-4a2d-bee5-47d7590c3d05",
   "metadata": {},
   "outputs": [],
   "source": [
    "soup = BeautifulSoup(page.text)"
   ]
  },
  {
   "cell_type": "code",
   "execution_count": 16,
   "id": "fffbffde-b77e-45c3-a9db-4aeb2873e8b6",
   "metadata": {},
   "outputs": [
    {
     "data": {
      "text/plain": [
       "[]"
      ]
     },
     "execution_count": 16,
     "metadata": {},
     "output_type": "execute_result"
    }
   ],
   "source": [
    "soup.find_all('h1')"
   ]
  },
  {
   "cell_type": "code",
   "execution_count": 1,
   "id": "435094dd-f771-4397-a31d-9e6d960de9ec",
   "metadata": {},
   "outputs": [],
   "source": [
    "c1 = \"ShibbolethSSO=LE; d2lSessionVal=YrPB9BEjqVOPBCRptS3f7TZ5y; d2lSecureSessionVal=HXi0uTItnxyGR8F4kvoeCJQcv\"\n"
   ]
  },
  {
   "cell_type": "code",
   "execution_count": 2,
   "id": "f2e13e95-e994-4895-8dc1-e4833b0002fa",
   "metadata": {},
   "outputs": [],
   "source": [
    "c2 = \"ShibbolethSSO=LE; d2lSessionVal=YrPB9BEjqVOPBCRptS3f7TZ5y; d2lSecureSessionVal=HXi0uTItnxyGR8F4kvoeCJQcv\""
   ]
  },
  {
   "cell_type": "code",
   "execution_count": 3,
   "id": "66a8110a-98e0-428e-9d13-31596d665731",
   "metadata": {},
   "outputs": [
    {
     "data": {
      "text/plain": [
       "True"
      ]
     },
     "execution_count": 3,
     "metadata": {},
     "output_type": "execute_result"
    }
   ],
   "source": [
    "c1 == c2"
   ]
  },
  {
   "cell_type": "code",
   "execution_count": null,
   "id": "b25820cc-edd8-41f8-ab66-9e2ef5122ce4",
   "metadata": {},
   "outputs": [],
   "source": []
  }
 ],
 "metadata": {
  "kernelspec": {
   "display_name": "Python 3 (ipykernel)",
   "language": "python",
   "name": "python3"
  },
  "language_info": {
   "codemirror_mode": {
    "name": "ipython",
    "version": 3
   },
   "file_extension": ".py",
   "mimetype": "text/x-python",
   "name": "python",
   "nbconvert_exporter": "python",
   "pygments_lexer": "ipython3",
   "version": "3.12.0"
  }
 },
 "nbformat": 4,
 "nbformat_minor": 5
}
