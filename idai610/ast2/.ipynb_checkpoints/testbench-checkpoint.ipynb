{
 "cells": [
  {
   "cell_type": "code",
   "execution_count": 1,
   "id": "fd0e91ee-541e-40df-936e-d351a8718045",
   "metadata": {},
   "outputs": [],
   "source": [
    "import numpy as np"
   ]
  },
  {
   "cell_type": "code",
   "execution_count": 2,
   "id": "2cc43da5-857c-4568-8b90-e89feca2ab26",
   "metadata": {},
   "outputs": [
    {
     "data": {
      "text/plain": [
       "dtype('int64')"
      ]
     },
     "execution_count": 2,
     "metadata": {},
     "output_type": "execute_result"
    }
   ],
   "source": [
    "np.random.binomial(1, 0.5, 10).dtype"
   ]
  },
  {
   "cell_type": "code",
   "execution_count": 3,
   "id": "5028b53e-9117-4c73-a8f7-efdcc5c13313",
   "metadata": {},
   "outputs": [
    {
     "data": {
      "text/plain": [
       "9"
      ]
     },
     "execution_count": 3,
     "metadata": {},
     "output_type": "execute_result"
    }
   ],
   "source": [
    "np.argmax(np.arange(10))"
   ]
  },
  {
   "cell_type": "code",
   "execution_count": 4,
   "id": "688a7203-6c4f-4219-99a5-d705fbe81e6d",
   "metadata": {},
   "outputs": [],
   "source": [
    "def get_initial_population(config: str):\n",
    "    \"\"\"\n",
    "    Populates vairables from config and initialize P at gen 0.\n",
    "\n",
    "    Args:\n",
    "        config: str, Path to config file.\n",
    "\n",
    "    Returns:\n",
    "        P: 2d array, Population of inviduals\n",
    "        W: int, Knapsack capacity\n",
    "        S: List[Tuple], each tuple is an item (w_i, v_i)\n",
    "        g: int, Current generation\n",
    "        stop: int, final generation (stop condition)\n",
    "    \"\"\"\n",
    "    rng = np.random.default_rng(63842)\n",
    "    # Populate the random variables\n",
    "    with open(config, 'r') as f:\n",
    "        lines = f.readlines();\n",
    "    population_size, n, stop, W = map(\n",
    "            int,\n",
    "            [lines[i].strip() for i in range(4)])\n",
    "    S = np.asarray([tuple(map(int, line.strip().split())) for line in lines[4:]])\n",
    "    # Initialize population at generation 0\n",
    "    g = 0\n",
    "    P = rng.integers(2, size=(population_size, n))\n",
    "    \n",
    "    return P, W, S, g, stop"
   ]
  },
  {
   "cell_type": "code",
   "execution_count": 5,
   "id": "7a97af30-dbea-40d1-8284-58405525211d",
   "metadata": {},
   "outputs": [],
   "source": [
    "P, W, S, g, stop = get_initial_population(\"ps2-idai610-config/config_1.txt\")"
   ]
  },
  {
   "cell_type": "code",
   "execution_count": 6,
   "id": "ae1987c5-79b4-4106-a2cd-e0337e11fc35",
   "metadata": {},
   "outputs": [
    {
     "data": {
      "text/plain": [
       "850"
      ]
     },
     "execution_count": 6,
     "metadata": {},
     "output_type": "execute_result"
    }
   ],
   "source": [
    "W"
   ]
  },
  {
   "cell_type": "code",
   "execution_count": 7,
   "id": "fdb7b5b5-4122-4784-98b5-20d97c01714c",
   "metadata": {},
   "outputs": [],
   "source": [
    "P, W, S, g, stop = get_initial_population(\"ps2-idai610-config/config_2.txt\")"
   ]
  },
  {
   "cell_type": "code",
   "execution_count": 8,
   "id": "01e6087e-070c-41fe-805c-9c6efe272bc4",
   "metadata": {},
   "outputs": [
    {
     "data": {
      "text/plain": [
       "array([[0, 1, 2, 3, 4],\n",
       "       [5, 6, 7, 8, 9]])"
      ]
     },
     "execution_count": 8,
     "metadata": {},
     "output_type": "execute_result"
    }
   ],
   "source": [
    "x = np.arange(10).reshape(2,5)\n",
    "x"
   ]
  },
  {
   "cell_type": "code",
   "execution_count": 9,
   "id": "303898cd-0395-403a-82b6-85d0c5a6c851",
   "metadata": {},
   "outputs": [
    {
     "data": {
      "text/plain": [
       "array([4, 6])"
      ]
     },
     "execution_count": 9,
     "metadata": {},
     "output_type": "execute_result"
    }
   ],
   "source": [
    "np.delete(np.asarray([2, 4, 6]), 0)"
   ]
  },
  {
   "cell_type": "code",
   "execution_count": 10,
   "id": "93391c63-fde4-49c8-a2b4-17022306861f",
   "metadata": {},
   "outputs": [
    {
     "ename": "NameError",
     "evalue": "name 'y' is not defined",
     "output_type": "error",
     "traceback": [
      "\u001b[0;31m---------------------------------------------------------------------------\u001b[0m",
      "\u001b[0;31mNameError\u001b[0m                                 Traceback (most recent call last)",
      "Cell \u001b[0;32mIn[10], line 1\u001b[0m\n\u001b[0;32m----> 1\u001b[0m np\u001b[38;5;241m.\u001b[39mconcatenate([x, \u001b[43my\u001b[49m])\n",
      "\u001b[0;31mNameError\u001b[0m: name 'y' is not defined"
     ]
    }
   ],
   "source": [
    "np.concatenate([x, y])"
   ]
  },
  {
   "cell_type": "code",
   "execution_count": null,
   "id": "ab4d5f71-d152-45d6-a414-8419eba8e0f4",
   "metadata": {},
   "outputs": [],
   "source": [
    "W"
   ]
  },
  {
   "cell_type": "code",
   "execution_count": null,
   "id": "97faaba4-2846-4bad-b378-0339d15cdc37",
   "metadata": {},
   "outputs": [],
   "source": [
    "np.sort(S_arr[:, 0])"
   ]
  },
  {
   "cell_type": "code",
   "execution_count": null,
   "id": "4c03bf24-67da-4854-bf29-6ff2794aaa77",
   "metadata": {},
   "outputs": [],
   "source": [
    "np.sort(S_arr[:, 1])"
   ]
  },
  {
   "cell_type": "code",
   "execution_count": null,
   "id": "25c1b3f9-d25c-4570-b5fd-2fed12d83a2c",
   "metadata": {},
   "outputs": [],
   "source": [
    "np.log()"
   ]
  },
  {
   "cell_type": "code",
   "execution_count": null,
   "id": "99f000a8-3f33-4ffd-bca3-a57908bf2343",
   "metadata": {},
   "outputs": [],
   "source": [
    "S_arr = np.asarray(S)\n",
    "np.log(37 / np.dot(P[5], S[:, 0]))"
   ]
  },
  {
   "cell_type": "code",
   "execution_count": null,
   "id": "bebba11c-a171-4e20-9db1-46ad13a07344",
   "metadata": {},
   "outputs": [],
   "source": [
    "P.shape, len(S), g, stop, Wa"
   ]
  },
  {
   "cell_type": "code",
   "execution_count": null,
   "id": "0eba81a1-ddb7-4360-80d7-68b5c0087a4c",
   "metadata": {},
   "outputs": [],
   "source": [
    "rng = np.random.default_rng(888)\n",
    "rng.integers(2, size=(5, 4))"
   ]
  },
  {
   "cell_type": "code",
   "execution_count": null,
   "id": "38a725b6-0305-4aa1-9674-36dfad84a178",
   "metadata": {},
   "outputs": [],
   "source": [
    "P.shape, S.shape"
   ]
  },
  {
   "cell_type": "code",
   "execution_count": null,
   "id": "47aa00d2-df94-4446-a4cd-b73a9138ed98",
   "metadata": {},
   "outputs": [],
   "source": [
    "P[0]"
   ]
  },
  {
   "cell_type": "code",
   "execution_count": null,
   "id": "005ce4a3-fa5f-4c87-b026-125056eb0dda",
   "metadata": {},
   "outputs": [],
   "source": [
    "np.flatnonzero(P[0])"
   ]
  },
  {
   "cell_type": "code",
   "execution_count": null,
   "id": "07584c9c-2724-4668-bce4-14bc085ae46b",
   "metadata": {},
   "outputs": [],
   "source": [
    "idx = np.flatnonzero(P[0])\n",
    "S[0]"
   ]
  },
  {
   "cell_type": "code",
   "execution_count": null,
   "id": "edbdb530-75f7-456a-ad8b-50d1cdb09e3e",
   "metadata": {},
   "outputs": [],
   "source": []
  },
  {
   "cell_type": "code",
   "execution_count": 24,
   "id": "32be9a92-6f35-43e8-9c9a-1dbbe1b7106d",
   "metadata": {},
   "outputs": [
    {
     "data": {
      "text/plain": [
       "([0.3, 0.5, 0.99], [0.3, 0.5, 0.99])"
      ]
     },
     "execution_count": 24,
     "metadata": {},
     "output_type": "execute_result"
    }
   ],
   "source": [
    "a = [0.3]\n",
    "from copy import copy\n",
    "b = copy(a)\n",
    "\n",
    "a.append(.5)\n",
    "b.append(0.99)\n",
    "\n",
    "a, b"
   ]
  },
  {
   "cell_type": "code",
   "execution_count": null,
   "id": "554769c2-4e1d-4d75-a791-8d82c2328e5e",
   "metadata": {},
   "outputs": [],
   "source": [
    "idx = np.flatnonzero(P[0])\n",
    "np.dot(P[0], S[:, 0])\n",
    "np.dot(P[0], S[:, 1])"
   ]
  },
  {
   "cell_type": "code",
   "execution_count": 21,
   "id": "b6b19d62-b476-4998-8316-42771ef561bc",
   "metadata": {},
   "outputs": [
    {
     "data": {
      "image/png": "[encoded data removed]",
      "text/plain": [
       "<Figure size 640x480 with 1 Axes>"
      ]
     },
     "metadata": {},
     "output_type": "display_data"
    }
   ],
   "source": [
    "import matplotlib.pyplot as plt\n",
    "\n",
    "fig, ax = plt.subplots()\n",
    "\n",
    "ax.plot(np.arange(len(S)), S[:, 0], label=\"weights\")\n",
    "ax.plot(np.arange(len(S)), S[:, 1], label=\"values\")\n",
    "ax.set_xlabel(\"Item #\")\n",
    "ax.set_ylabel(\"Corresponding weight/value\")\n",
    "ax.legend()\n",
    "plt.suptitle(\"Graph of weights and values.\", fontsize=18)\n",
    "plt.title(\"X=10, Y=11999\", fontsize=8)\n",
    "plt.savefig(\"hello.png\")\n",
    "plt.show()"
   ]
  },
  {
   "cell_type": "code",
   "execution_count": null,
   "id": "4b300a88-1bce-42ad-b023-af028755fba5",
   "metadata": {},
   "outputs": [],
   "source": []
  },
  {
   "cell_type": "code",
   "execution_count": 15,
   "id": "409cd4ff-ac27-4cfa-b1a5-f296e337116e",
   "metadata": {},
   "outputs": [
    {
     "data": {
      "text/plain": [
       "\u001b[0;31mType:\u001b[0m           ScaledTranslation\n",
       "\u001b[0;31mString form:\u001b[0m   \n",
       "ScaledTranslation(\n",
       "    (0.0, 0.08333333333333333))\n",
       "\u001b[0;31mFile:\u001b[0m           ~/miniconda3/envs/ML/lib/python3.12/site-packages/matplotlib/transforms.py\n",
       "\u001b[0;31mDocstring:\u001b[0m     \n",
       "A transformation that translates by *xt* and *yt*, after *xt* and *yt*\n",
       "have been transformed by *scale_trans*.\n",
       "\u001b[0;31mInit docstring:\u001b[0m\n",
       "Parameters\n",
       "----------\n",
       "shorthand_name : str\n",
       "    A string representing the \"name\" of the transform. The name carries\n",
       "    no significance other than to improve the readability of\n",
       "    ``str(transform)`` when DEBUG=True."
      ]
     },
     "metadata": {},
     "output_type": "display_data"
    }
   ],
   "source": [
    "ax.titleOffsetTrans?"
   ]
  },
  {
   "cell_type": "code",
   "execution_count": null,
   "id": "82aed6d5-1b12-4558-8511-227cfbf21f7a",
   "metadata": {},
   "outputs": [],
   "source": [
    "b\n"
   ]
  },
  {
   "cell_type": "code",
   "execution_count": null,
   "id": "57ccd431-7060-49e5-b6a7-f24953761301",
   "metadata": {},
   "outputs": [],
   "source": []
  },
  {
   "cell_type": "code",
   "execution_count": null,
   "id": "241d78e0-26ed-45ec-ab2e-da79755b1369",
   "metadata": {},
   "outputs": [],
   "source": [
    "P.shape"
   ]
  },
  {
   "cell_type": "code",
   "execution_count": null,
   "id": "783ed4b9-827f-43fe-b7fd-9042029d5b8f",
   "metadata": {},
   "outputs": [],
   "source": []
  },
  {
   "cell_type": "code",
   "execution_count": null,
   "id": "a96df0c5-510a-42e3-9b11-2268c9a6eb4e",
   "metadata": {},
   "outputs": [],
   "source": [
    "def fitness_fn(items, capacity, individual):\n",
    "    # weight = np.dot(individual, items[:, 0])\n",
    "    # if weight > capacity:\n",
    "    #    return 0\n",
    "    # else:\n",
    "        # return value\n",
    "    return (np.sum(individual), np.dot(individual, items[:, 0]), np.dot(individual, items[:, 1]))\n",
    "\n",
    "\n",
    "from functools import partial\n",
    "fitness_fn_wrapped = partial(fitness_fn, S, W)\n",
    "scores = np.apply_along_axis(fitness_fn_wrapped, axis=1, arr=P)\n",
    "print(scores)"
   ]
  },
  {
   "cell_type": "code",
   "execution_count": null,
   "id": "c7a07c94-81c1-468c-a4bf-fcb6af311f0c",
   "metadata": {},
   "outputs": [],
   "source": [
    "len(S)"
   ]
  },
  {
   "cell_type": "code",
   "execution_count": null,
   "id": "93fd7a49-b876-4557-9efe-c2bfdd93ede0",
   "metadata": {},
   "outputs": [],
   "source": []
  },
  {
   "cell_type": "code",
   "execution_count": null,
   "id": "7cf655b7-3c2e-4ce4-a8da-3b86fabc4cdf",
   "metadata": {},
   "outputs": [],
   "source": [
    "def fitness_fn(items, capacity, individual):\n",
    "    weight = np.dot(individual, items[:, 0])\n",
    "    if weight > capacity:\n",
    "        return 0\n",
    "    else:\n",
    "        # return value\n",
    "        return np.dot(individual, items[:, 1])\n",
    "\n",
    "\n",
    "from functools import partial\n",
    "fitness_fn_wrapped = partial(fitness_fn, S, W)\n",
    "np.apply_along_axis(fitness_fn_wrapped, axis=1, arr=P)"
   ]
  },
  {
   "cell_type": "code",
   "execution_count": null,
   "id": "2f0fda36-71e3-4798-a533-cc74b3f69ba8",
   "metadata": {},
   "outputs": [],
   "source": [
    "items = np.asarray([(2, 4), (5, 6), (3, 8)])"
   ]
  },
  {
   "cell_type": "code",
   "execution_count": null,
   "id": "a4451d53-0a58-4c2c-b58d-db767ce5408a",
   "metadata": {},
   "outputs": [],
   "source": [
    "items[:, 0]"
   ]
  },
  {
   "cell_type": "code",
   "execution_count": null,
   "id": "c3167e2b-0149-4c75-bce2-22e021f4bf20",
   "metadata": {},
   "outputs": [],
   "source": [
    "np.dot(items[:, 0], items[:, 1])"
   ]
  },
  {
   "cell_type": "code",
   "execution_count": null,
   "id": "e032de0d-c983-40b2-a714-08f5330cfdb4",
   "metadata": {},
   "outputs": [],
   "source": [
    "P[0]"
   ]
  },
  {
   "cell_type": "code",
   "execution_count": null,
   "id": "8859c929-8d27-4a3c-9c1a-69eb429ca2c4",
   "metadata": {},
   "outputs": [],
   "source": [
    "b1 = 0\n",
    "b2 = 1"
   ]
  },
  {
   "cell_type": "code",
   "execution_count": null,
   "id": "6f39c06a-5978-4b44-90bb-cd996311f094",
   "metadata": {},
   "outputs": [],
   "source": [
    "b1 ^= 0\n",
    "b2 ^= 0\n",
    "b1, b2"
   ]
  },
  {
   "cell_type": "code",
   "execution_count": null,
   "id": "93d96701-351e-481f-8332-a8b622ba58ae",
   "metadata": {},
   "outputs": [],
   "source": [
    "b1 ^= 1\n",
    "b2 ^= 1\n",
    "b1, b2"
   ]
  },
  {
   "cell_type": "code",
   "execution_count": null,
   "id": "00c71308-5c8b-4532-a03e-74d61449bdfb",
   "metadata": {},
   "outputs": [],
   "source": [
    "dict(a=1, b=10)"
   ]
  },
  {
   "cell_type": "code",
   "execution_count": null,
   "id": "0ad92524-7089-4aef-a8f5-4f33863be6df",
   "metadata": {},
   "outputs": [],
   "source": [
    "dict()"
   ]
  },
  {
   "cell_type": "code",
   "execution_count": null,
   "id": "0628d7df-110e-4315-8d0e-e59e72dd6627",
   "metadata": {},
   "outputs": [],
   "source": []
  }
 ],
 "metadata": {
  "kernelspec": {
   "display_name": "Python 3 (ipykernel)",
   "language": "python",
   "name": "python3"
  },
  "language_info": {
   "codemirror_mode": {
    "name": "ipython",
    "version": 3
   },
   "file_extension": ".py",
   "mimetype": "text/x-python",
   "name": "python",
   "nbconvert_exporter": "python",
   "pygments_lexer": "ipython3",
   "version": "3.12.0"
  }
 },
 "nbformat": 4,
 "nbformat_minor": 5
}
